{
 "cells": [
  {
   "cell_type": "code",
   "execution_count": 1,
   "id": "c1b26bf5",
   "metadata": {},
   "outputs": [],
   "source": [
    "import time\n",
    "import math\n",
    "import nltk\n",
    "from textblob import TextBlob\n",
    "import string\n",
    "import pandas as pd\n",
    "from nltk.corpus import stopwords\n",
    "import itertools\n",
    "from collections import Counter\n",
    "import pandas as pd\n",
    "from sklearn.feature_extraction.text import TfidfVectorizer\n",
    "from sklearn.metrics.pairwise import linear_kernel\n",
    "from sklearn.metrics.pairwise import cosine_similarity\n",
    "from ast import literal_eval\n",
    "import pandas as pd\n",
    "import matplotlib.pyplot as plt\n",
    "import string\n",
    "import re\n",
    "from afinn import Afinn\n",
    "from scipy import sparse\n",
    "import numpy as np\n",
    "from scipy.sparse import csr_matrix\n",
    "import random"
   ]
  },
  {
   "cell_type": "code",
   "execution_count": 2,
   "id": "3362deaf",
   "metadata": {},
   "outputs": [],
   "source": [
    "def lowletter(text):\n",
    "    cleantext = text.lower()\n",
    "    return cleantext\n",
    "\n",
    "def cleansymbols(text):\n",
    "    afterclean=''\n",
    "    valid_letters = string.ascii_letters\n",
    "    for i in text:\n",
    "        if i in valid_letters  or i == \" \" and not (i.isdigit()):\n",
    "            afterclean += i\n",
    "    return afterclean\n",
    "\n",
    "def cleanstopwords(text,stopWords) :\n",
    "    tokens = nltk.word_tokenize(text)\n",
    "    cleanstopwords = \"\"\n",
    "    for word in tokens:\n",
    "        if word not in stopWords and len(word)>1:\n",
    "            cleanstopwords += word\n",
    "            cleanstopwords += \" \"\n",
    "    return cleanstopwords\n",
    "\n",
    "def clean_data(x):\n",
    "    if isinstance(x, list):\n",
    "        return [str.lower(i.replace(\" \", \"\")) for i in x]\n",
    "    else:\n",
    "        #Check if director exists. If not, return empty string\n",
    "        if isinstance(x, str):\n",
    "            return str.lower(x.replace(\" \", \"\"))\n",
    "        else:\n",
    "            return ''\n",
    "\n",
    "def get_list(x):\n",
    "    if isinstance(x, list):\n",
    "        names = [i['name'] for i in x]\n",
    "        #Check if more than 3 elements exist. If yes, return only first three. If no, return entire list.\n",
    "        if len(names) > 3:\n",
    "            names = names[:3]\n",
    "        return names\n",
    "\n",
    "    #Return empty list in case of missing/malformed data\n",
    "    return []\n",
    "\n",
    "\n",
    "def get_avg_time(recipes,data,user_id):\n",
    "    sem2=data.loc[data['user_id']== user_id]\n",
    "    s=recipes.loc[recipes['id'].isin(sem2['recipe_id'])]\n",
    "    return s['minutes'].mean()\n",
    "\n",
    "\n",
    "        \n",
    "\n",
    "def get_recommendations(user_id,name,df, cosine_sim):\n",
    "    # Get the index of the recipe that matches the name\n",
    "    indices = pd.Series(df.index, index=df['name']).drop_duplicates()\n",
    "    \n",
    "    idx = indices[name]\n",
    "\n",
    "    # Get the pairwsie similarity scores of all recipes with that recipe\n",
    "    sim_scores = list(enumerate(cosine_sim[idx]))\n",
    "\n",
    "    # Sort the recipes based on the similarity scores\n",
    "    sim_scores = sorted(sim_scores, key=lambda x: x[1], reverse=True)\n",
    "\n",
    "    # Get the scores of the 10 most similar recipes\n",
    "    sim_scores = sim_scores[1:10]\n",
    "\n",
    "    time=get_avg_time(recipes,sem,user_id)\n",
    "    \n",
    "    recipe_indices = [i[0] for i in sim_scores]\n",
    "\n",
    "    df1=df.iloc[recipe_indices]\n",
    "    df1=df1[df1['minutes']> (time-20)]\n",
    "    df1=df1[df1['minutes']< (time+20)]\n",
    "\n",
    "    # Return the top 10 most similar recipes\n",
    "    return list(df1['name'])  \n",
    "\n",
    "# Python program to convert a list to string\n",
    "\t\n",
    "# Function to convert\n",
    "def listToString(s):\n",
    "    listToStr = ' '.join([str(elem) for elem in s])\n",
    "    return listToStr"
   ]
  },
  {
   "cell_type": "code",
   "execution_count": 3,
   "id": "10e0dbc9",
   "metadata": {},
   "outputs": [],
   "source": [
    "def create_X(df):\n",
    "    \"\"\"\n",
    "    Generates a sparse matrix from ratings dataframe.\n",
    "\n",
    "    Args:\n",
    "        df: pandas dataframe containing 3 columns (userId, recipe_id, rating)\n",
    "\n",
    "    Returns:\n",
    "        X: sparse matrix\n",
    "        user_mapper: dict that mapsto user user id's  indices\n",
    "        user_inv_mapper: dict that maps user indices to user id's\n",
    "        movie_mapper: dict that maps recipe id's to recipe indices\n",
    "        movie_inv_mapper: dict that maps recipe indices to recipe id's\n",
    "    \"\"\"\n",
    "    M = df['user_id'].nunique()\n",
    "    N = df['recipe_id'].nunique()\n",
    "\n",
    "    user_mapper = dict(zip(np.unique(df[\"user_id\"]), list(range(M))))\n",
    "    recipe_mapper = dict(zip(np.unique(df[\"recipe_id\"]), list(range(N))))\n",
    "\n",
    "    user_inv_mapper = dict(zip(list(range(M)), np.unique(df[\"user_id\"])))\n",
    "    recipe_inv_mapper = dict(zip(list(range(N)), np.unique(df[\"recipe_id\"])))\n",
    "\n",
    "    user_index = [user_mapper[i] for i in df['user_id']]\n",
    "    item_index = [recipe_mapper[i] for i in df['recipe_id']]\n",
    "\n",
    "    X = csr_matrix((df[\"rating\"], (item_index,user_index)), shape=(N,M),dtype='uint8')\n",
    "\n",
    "    return X, user_mapper, recipe_mapper, user_inv_mapper, recipe_inv_mapper"
   ]
  },
  {
   "cell_type": "code",
   "execution_count": 4,
   "id": "30c2ec87",
   "metadata": {},
   "outputs": [],
   "source": [
    "def item_based_rec(user, num_recommendation):\n",
    "    number_neighbors = 3\n",
    "\n",
    "    user_index = df.columns.tolist().index(user)\n",
    "\n",
    "    for m, t in list(enumerate(df.index)):\n",
    "        if df.iloc[m, user_index] == 0:\n",
    "            sim_recipes = indices[m].tolist()\n",
    "            recipes_distances = distances[m].tolist()\n",
    "\n",
    "            if m in sim_recipes:\n",
    "                id_recipe = sim_recipes.index(m)\n",
    "                sim_recipes.remove(m)\n",
    "                recipes_distances.pop(id_recipe)\n",
    "\n",
    "            else:\n",
    "                sim_recipes = sim_recipes[:3 - 1]\n",
    "                recipes_distances = recipes_distances[:3 - 1]\n",
    "\n",
    "            recipe_similarity = [1 - x for x in recipes_distances]\n",
    "            recipe_similarity_copy = recipe_similarity.copy()\n",
    "            nominator = 0\n",
    "\n",
    "            for s in range(0, len(recipe_similarity)):\n",
    "                if df.iloc[sim_recipes[s], user_index] == 0:\n",
    "                    if len(recipe_similarity_copy) == (number_neighbors - 1):\n",
    "                        recipe_similarity_copy.pop(s)\n",
    "\n",
    "                    else:\n",
    "                        recipe_similarity_copy.pop(s - (len(recipe_similarity) - len(recipe_similarity_copy)))\n",
    "\n",
    "                else:\n",
    "                    nominator = nominator + recipe_similarity[s] * df.iloc[sim_recipes[s], user_index]\n",
    "\n",
    "            if len(recipe_similarity_copy) > 0:\n",
    "                if sum(recipe_similarity_copy) > 0:\n",
    "                    predicted_r = nominator / sum(recipe_similarity_copy)\n",
    "\n",
    "                else:\n",
    "                    predicted_r = 0\n",
    "\n",
    "            else:\n",
    "                predicted_r = 0\n",
    "\n",
    "            df1.iloc[m, user_index] = predicted_r\n",
    "    recommends(user, num_recommendation)"
   ]
  },
  {
   "cell_type": "code",
   "execution_count": 5,
   "id": "fa33d6d7",
   "metadata": {},
   "outputs": [],
   "source": [
    "def recommends(user, num_recommended_recipes):\n",
    "#     print('The list of the Recipes : user:{}  \\n'.format(user_inv_mapper[user]))\n",
    "\n",
    "#     for m in df[df[user] > 0][user].index.tolist():\n",
    "#         rec=recipes[\"name\"].loc[recipes['id']==recipe_inv_mapper[m]].to_string(index=False)\n",
    "#         rat=sem[(sem['user_id']==(user_inv_mapper[user])) & (sem[\"recipe_id\"]==recipe_inv_mapper[m])]\n",
    "#         print(rec+\":\"+rat['rating'].to_string(index=False))\n",
    "#         #print(recipe_inv_mapper[m])\n",
    "\n",
    "    print('\\n')\n",
    "\n",
    "    recommended_recipes = []\n",
    "\n",
    "    for m in df[df[user] == 0].index.tolist():\n",
    "        index_df = df.index.tolist().index(m)\n",
    "        predicted_rating = df1.iloc[index_df, df1.columns.tolist().index(user)]\n",
    "        recommended_recipes.append((m, predicted_rating))\n",
    "\n",
    "    sorted_rm = sorted(recommended_recipes, key=lambda x: x[1], reverse=True)\n",
    "\n",
    "    #print('The list of the Recommended Recipes \\n')\n",
    "    rank = 1\n",
    "    for recommended_recipe in sorted_rm[:num_recommended_recipes]:\n",
    "        my_rec.extend(list(recipes[\"name\"].loc[recipes['id']==recipe_inv_mapper[recommended_recipe[0]]]))\n",
    "        #if recommended_recipe[1]>=3:\n",
    "        #print('{}: {} - predicted rating:{}'.format(rank, recipes[\"name\"].loc[recipes['id']==recipe_inv_mapper[recommended_recipe[0]]].to_string(index=False), recommended_recipe[1]))\n",
    "        #rank = rank + 1"
   ]
  },
  {
   "cell_type": "code",
   "execution_count": 51,
   "id": "a352081a",
   "metadata": {},
   "outputs": [
    {
     "name": "stdout",
     "output_type": "stream",
     "text": [
      "     user_id  recipe_id  rating\n",
      "31     56680      79222       5\n",
      "43    183565      79222       5\n",
      "44    101823      79222       5\n",
      "46    446143      79222       4\n",
      "47    226989      79222       4\n",
      "48    868654      79222       5\n",
      "50    302867      79222       5\n",
      "54    930021      79222       5\n",
      "55    241697      79222       5\n",
      "56    980899      79222       4\n",
      "57    158966      79222       5\n",
      "58    827374      79222       3\n",
      "174   328099     195977       5\n",
      "175   403193     195977       5\n",
      "176    61995     195977       5\n",
      "177   440735     195977       5\n",
      "178   633027     195977       5\n",
      "179   543968     195977       5\n",
      "181  1701315     195977       5\n",
      "188    91584     195977       5\n",
      "(5834, 19828)\n"
     ]
    }
   ],
   "source": [
    "my_rec=[]\n",
    "sem=pd.read_csv('sem_an.csv')\n",
    "recipes=pd.read_csv('RAW_recipes.csv')\n",
    "sem=sem.groupby('recipe_id').filter(lambda x: len(x) >= 25 )\n",
    "sem=sem.groupby('user_id').filter(lambda x: len(x) >= 3 )\n",
    "print(sem.head(20))\n",
    "X, user_mapper, recipe_mapper, user_inv_mapper, recipe_inv_mapper = create_X(sem)\n",
    "df = pd.DataFrame(data=csr_matrix.todense(X))\n",
    "print(df.shape)\n",
    "df1=df.copy()\n",
    "distances=pd.read_csv('distances.csv')\n",
    "indices=pd.read_csv('indices.csv')\n",
    "#print(distances.values)\n",
    "distances=np.array(distances.values.tolist())\n",
    "indices=np.array(indices.values.tolist())\n",
    "#index=get_index(95810)\n",
    "\n"
   ]
  },
  {
   "cell_type": "code",
   "execution_count": 7,
   "id": "6f9e52f9",
   "metadata": {},
   "outputs": [],
   "source": [
    "def col_fil(user_id):\n",
    "    item_based_rec(user_mapper[user_id],10)\n",
    "#col_fil(95810)"
   ]
  },
  {
   "cell_type": "code",
   "execution_count": 8,
   "id": "5110ba13",
   "metadata": {},
   "outputs": [],
   "source": [
    "df_r=recipes.loc[recipes['id'].isin(sem['recipe_id'])]\n",
    "df_r=df_r.reset_index(drop=True)\n"
   ]
  },
  {
   "cell_type": "code",
   "execution_count": 9,
   "id": "602c695b",
   "metadata": {},
   "outputs": [],
   "source": [
    "tfidf = TfidfVectorizer(stop_words='english')\n",
    "\n",
    "#Replace NaN with an empty string\n",
    "df_r['description'] = df_r['description'].fillna('')\n",
    "\n",
    "#Construct the required TF-IDF matrix by fitting and transforming the data\n",
    "tfidf_matrix = tfidf.fit_transform(df_r['description'])\n",
    "\n",
    "#Output the shape of tfidf_matrix\n",
    "#tfidf_matrix.shape\n",
    "cosine_sim = linear_kernel(tfidf_matrix, tfidf_matrix)"
   ]
  },
  {
   "cell_type": "code",
   "execution_count": 10,
   "id": "4a1a317c",
   "metadata": {},
   "outputs": [],
   "source": [
    "def create_recs(user_id,df_r,sem):\n",
    "    sem3=sem.loc[sem['user_id']== user_id]\n",
    "    s=recipes.loc[recipes['id'].isin(sem3['recipe_id'])]\n",
    "    s1=list(s['name'])\n",
    "    #print(s1)\n",
    "    recs=[]\n",
    "    for i in s1:\n",
    "        my_rec.extend(get_recommendations(user_id,i,df_r, cosine_sim))\n",
    "    #return recs"
   ]
  },
  {
   "cell_type": "code",
   "execution_count": 33,
   "id": "4695ca00",
   "metadata": {},
   "outputs": [],
   "source": [
    "def top_10():\n",
    "    top_n = sem.groupby('recipe_id') \\\n",
    "           .agg({'user_id':'size', 'rating':'mean'}) \\\n",
    "           .rename(columns={'user_id':'count','rating':'mean_sent'}) \\\n",
    "           .reset_index()\n",
    "    most_populary=top_n[\"recipe_id\"][:10]\n",
    "    most_populary\n",
    "    print('Top 10 popular recipes:')\n",
    "    for i in most_populary:\n",
    "        print(list(recipes[\"name\"].loc[recipes[\"id\"]==i]))"
   ]
  },
  {
   "cell_type": "code",
   "execution_count": 47,
   "id": "c842c46f",
   "metadata": {
    "scrolled": true
   },
   "outputs": [],
   "source": [
    "def hybrid(user_id):\n",
    "    top_10()\n",
    "    create_recs(user_id,df_r,sem)\n",
    "    rec=col_fil(user_id)\n",
    "    print(\"We recommend you:\")\n",
    "    \n",
    "   \n"
   ]
  },
  {
   "cell_type": "code",
   "execution_count": 48,
   "id": "0206f463",
   "metadata": {
    "scrolled": true
   },
   "outputs": [
    {
     "name": "stdout",
     "output_type": "stream",
     "text": [
      "Top 10 popular recipes:\n",
      "['amish friendship bread and starter']\n",
      "['classic cream scones']\n",
      "['chinese hot and sour pork soup']\n",
      "['lee s hot crab dip']\n",
      "['spanish potato omelet  tortilla a la espanola']\n",
      "['potatoes tapas in garlic mayonnaise  potatoes aioli']\n",
      "['yellow squash puffs']\n",
      "['blue mountain blueberry pie']\n",
      "['remarkable rhubarb bites']\n",
      "['lentil dal']\n",
      "\n",
      "\n",
      "We recommend you:\n"
     ]
    },
    {
     "data": {
      "text/plain": [
       "['shirley s shrimp potato salad',\n",
       " 'baked arroz con pollo',\n",
       " 'delicious chicken pot pie',\n",
       " 'mashed potatoes with creme fraiche and chives',\n",
       " 'lasagna spirals',\n",
       " 'amish chicken',\n",
       " 'vegetarian taco soup',\n",
       " 'southwest spaghetti squash',\n",
       " 'cracker barrel green beans',\n",
       " 'thanksgiving pumpkin pie  uses fresh pumpkin']"
      ]
     },
     "execution_count": 48,
     "metadata": {},
     "output_type": "execute_result"
    }
   ],
   "source": [
    "hybrid(28649)\n",
    "\n",
    "random.sample(my_rec,10)"
   ]
  },
  {
   "cell_type": "code",
   "execution_count": 53,
   "id": "ab73ed10",
   "metadata": {},
   "outputs": [
    {
     "name": "stdout",
     "output_type": "stream",
     "text": [
      "Top 10 popular recipes:\n",
      "['amish friendship bread and starter']\n",
      "['classic cream scones']\n",
      "['chinese hot and sour pork soup']\n",
      "['lee s hot crab dip']\n",
      "['spanish potato omelet  tortilla a la espanola']\n",
      "['potatoes tapas in garlic mayonnaise  potatoes aioli']\n",
      "['yellow squash puffs']\n",
      "['blue mountain blueberry pie']\n",
      "['remarkable rhubarb bites']\n",
      "['lentil dal']\n",
      "\n",
      "\n",
      "We recommend you:\n"
     ]
    },
    {
     "data": {
      "text/plain": [
       "['crock pot apple or cherry cobbler',\n",
       " 'the best  banana bread  or muffins',\n",
       " 'rich and chewy low fat brownies',\n",
       " 'the best  banana bread  or muffins',\n",
       " 'turkey pot pie with stuffing crust  using leftovers',\n",
       " 'light wheat beer bread',\n",
       " 'my onion  fried  chicken',\n",
       " 'parmesan acorn squash',\n",
       " 'ultimate brownies',\n",
       " 'irish pub beef stew']"
      ]
     },
     "execution_count": 53,
     "metadata": {},
     "output_type": "execute_result"
    }
   ],
   "source": [
    "hybrid(95810)\n",
    "random.sample(my_rec,10)\n"
   ]
  },
  {
   "cell_type": "code",
   "execution_count": 50,
   "id": "22bc741c",
   "metadata": {},
   "outputs": [
    {
     "name": "stdout",
     "output_type": "stream",
     "text": [
      "Top 10 popular recipes:\n",
      "['amish friendship bread and starter']\n",
      "['classic cream scones']\n",
      "['chinese hot and sour pork soup']\n",
      "['lee s hot crab dip']\n",
      "['spanish potato omelet  tortilla a la espanola']\n",
      "['potatoes tapas in garlic mayonnaise  potatoes aioli']\n",
      "['yellow squash puffs']\n",
      "['blue mountain blueberry pie']\n",
      "['remarkable rhubarb bites']\n",
      "['lentil dal']\n",
      "\n",
      "\n",
      "We recommend you:\n"
     ]
    },
    {
     "data": {
      "text/plain": [
       "['beef tips and rice',\n",
       " 'parmesan acorn squash',\n",
       " 'spinach stuffed turkey roll redone',\n",
       " 'corn casserole  paula deen',\n",
       " 'braised lamb shoulder chops',\n",
       " 'heavenly potatoes and ham',\n",
       " 'beef tips and rice',\n",
       " 'broccoli casserole with no  cream of something  soups',\n",
       " 'amish chicken',\n",
       " 'one bowl brownie pie']"
      ]
     },
     "execution_count": 50,
     "metadata": {},
     "output_type": "execute_result"
    }
   ],
   "source": [
    "hybrid(868654)\n",
    "random.sample(my_rec,10)"
   ]
  },
  {
   "cell_type": "code",
   "execution_count": 52,
   "id": "f0b6e2e8",
   "metadata": {},
   "outputs": [
    {
     "name": "stdout",
     "output_type": "stream",
     "text": [
      "Top 10 popular recipes:\n",
      "['amish friendship bread and starter']\n",
      "['classic cream scones']\n",
      "['chinese hot and sour pork soup']\n",
      "['lee s hot crab dip']\n",
      "['spanish potato omelet  tortilla a la espanola']\n",
      "['potatoes tapas in garlic mayonnaise  potatoes aioli']\n",
      "['yellow squash puffs']\n",
      "['blue mountain blueberry pie']\n",
      "['remarkable rhubarb bites']\n",
      "['lentil dal']\n",
      "\n",
      "\n",
      "We recommend you:\n"
     ]
    },
    {
     "data": {
      "text/plain": [
       "['oven roasted bbq chicken breast',\n",
       " 'oven barbecued chicken wings',\n",
       " 'easy stove top stuffing meatloaf',\n",
       " 'mexican lime chicken',\n",
       " 'greek cauliflower',\n",
       " 'delicious cream of reuben soup',\n",
       " 'mean chef s apple brine',\n",
       " 'bread stuffing',\n",
       " 'bailey s irish cream bread pudding',\n",
       " 'old bay steak fries']"
      ]
     },
     "execution_count": 52,
     "metadata": {},
     "output_type": "execute_result"
    }
   ],
   "source": [
    "hybrid(868654)\n",
    "random.sample(my_rec,10)"
   ]
  },
  {
   "cell_type": "code",
   "execution_count": 54,
   "id": "e6bc7b22",
   "metadata": {},
   "outputs": [
    {
     "name": "stdout",
     "output_type": "stream",
     "text": [
      "Top 10 popular recipes:\n",
      "['amish friendship bread and starter']\n",
      "['classic cream scones']\n",
      "['chinese hot and sour pork soup']\n",
      "['lee s hot crab dip']\n",
      "['spanish potato omelet  tortilla a la espanola']\n",
      "['potatoes tapas in garlic mayonnaise  potatoes aioli']\n",
      "['yellow squash puffs']\n",
      "['blue mountain blueberry pie']\n",
      "['remarkable rhubarb bites']\n",
      "['lentil dal']\n",
      "\n",
      "\n",
      "We recommend you:\n"
     ]
    },
    {
     "data": {
      "text/plain": [
       "['easy lemon pound cake',\n",
       " 'cheeseburger soup',\n",
       " 'weight watchers parmesan chicken cutlets',\n",
       " 'potatoes a l alsacienne',\n",
       " 'easy crispy dijon chicken',\n",
       " 'roasted tomato soup',\n",
       " 'mashed potatoes with creme fraiche and chives',\n",
       " 'look both ways snitch and run   potatoes',\n",
       " 'chicken with laughing cow cheese',\n",
       " 'sourdough coffee cake']"
      ]
     },
     "execution_count": 54,
     "metadata": {},
     "output_type": "execute_result"
    }
   ],
   "source": [
    "hybrid(302867)\n",
    "random.sample(my_rec,10)"
   ]
  },
  {
   "cell_type": "code",
   "execution_count": null,
   "id": "e69bc96d",
   "metadata": {},
   "outputs": [],
   "source": []
  }
 ],
 "metadata": {
  "celltoolbar": "Raw Cell Format",
  "kernelspec": {
   "display_name": "Python 3",
   "language": "python",
   "name": "python3"
  },
  "language_info": {
   "codemirror_mode": {
    "name": "ipython",
    "version": 3
   },
   "file_extension": ".py",
   "mimetype": "text/x-python",
   "name": "python",
   "nbconvert_exporter": "python",
   "pygments_lexer": "ipython3",
   "version": "3.8.8"
  }
 },
 "nbformat": 4,
 "nbformat_minor": 5
}
